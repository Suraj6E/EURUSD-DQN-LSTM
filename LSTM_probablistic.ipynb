{
 "cells": [
  {
   "cell_type": "markdown",
   "metadata": {},
   "source": [
    "### Probablistic LSTM Modal"
   ]
  },
  {
   "cell_type": "code",
   "execution_count": 7,
   "metadata": {},
   "outputs": [],
   "source": [
    "import torch\n",
    "import torch.nn as nn\n",
    "import pandas as pd\n",
    "import numpy as np\n",
    "\n",
    "import matplotlib.pyplot as plt\n"
   ]
  },
  {
   "cell_type": "code",
   "execution_count": 2,
   "metadata": {},
   "outputs": [
    {
     "data": {
      "text/plain": [
       "device(type='cuda')"
      ]
     },
     "execution_count": 2,
     "metadata": {},
     "output_type": "execute_result"
    }
   ],
   "source": [
    "# Check if GPU is available\n",
    "device = torch.device(\"cuda\" if torch.cuda.is_available() else \"cpu\")\n",
    "device"
   ]
  },
  {
   "cell_type": "code",
   "execution_count": 3,
   "metadata": {},
   "outputs": [
    {
     "name": "stdout",
     "output_type": "stream",
     "text": [
      "             timestamp     open     high      low    close\n",
      "0  2023-01-01 17:05:00  1.06973  1.06978  1.06970  1.06970\n",
      "1  2023-01-01 17:06:00  1.06966  1.06966  1.06966  1.06966\n",
      "2  2023-01-01 17:08:00  1.06970  1.06974  1.06970  1.06970\n",
      "3  2023-01-01 17:10:00  1.06975  1.06980  1.06972  1.06972\n",
      "4  2023-01-01 17:11:00  1.06972  1.06972  1.06972  1.06972\n",
      "5  2023-01-01 17:12:00  1.06975  1.06980  1.06975  1.06975\n",
      "6  2023-01-01 17:13:00  1.07066  1.07066  1.06917  1.06917\n",
      "7  2023-01-01 17:14:00  1.06937  1.06937  1.06899  1.06899\n",
      "8  2023-01-01 17:15:00  1.06788  1.06788  1.06788  1.06788\n",
      "9  2023-01-01 17:16:00  1.06788  1.06788  1.06788  1.06788\n",
      "                open           high            low          close\n",
      "count  322637.000000  322637.000000  322637.000000  322637.000000\n",
      "mean        1.080758       1.080831       1.080684       1.080684\n",
      "std         0.016279       0.016277       0.016282       0.016282\n",
      "min         1.044930       1.044980       1.044830       1.044830\n",
      "25%         1.068360       1.068430       1.068290       1.068290\n",
      "50%         1.081570       1.081660       1.081470       1.081470\n",
      "75%         1.092630       1.092700       1.092560       1.092560\n",
      "max         1.127540       1.127560       1.127370       1.127370\n"
     ]
    }
   ],
   "source": [
    "data = pd.read_csv(\"./data_saved/EURUSD_M1_2023.csv\")\n",
    "\n",
    "print(data.head(10))\n",
    "print(data.describe())\n",
    "\n",
    "# # Normalize data\n",
    "# data_norm = data.copy()\n",
    "# data_norm[['open', 'high', 'low', 'close']] = (data[['open', 'high', 'low', 'close']] - data[['open', 'high', 'low', 'close']].mean()) / data[['open', 'high', 'low', 'close']].std()\n",
    "\n",
    "# data_norm.head(10)"
   ]
  },
  {
   "cell_type": "code",
   "execution_count": 4,
   "metadata": {},
   "outputs": [
    {
     "data": {
      "text/plain": [
       "tensor([[[1.0697],\n",
       "         [1.0697],\n",
       "         [1.0697],\n",
       "         ...,\n",
       "         [1.1037],\n",
       "         [1.1037],\n",
       "         [1.1036]]], device='cuda:0')"
      ]
     },
     "execution_count": 4,
     "metadata": {},
     "output_type": "execute_result"
    }
   ],
   "source": [
    "# Convert DataFrame to PyTorch tensor and move to GPU\n",
    "data_tensor = torch.tensor(data[['close']].values, dtype=torch.float32).unsqueeze(0).to(device)  # Add batch dimension\n",
    "\n",
    "data_tensor"
   ]
  },
  {
   "cell_type": "code",
   "execution_count": 5,
   "metadata": {},
   "outputs": [],
   "source": [
    "# Define LSTM model for probabilistic forecasting\n",
    "class LSTMProbabilistic(nn.Module):\n",
    "    def __init__(self, input_size, hidden_size, num_layers, output_size):\n",
    "        super(LSTMProbabilistic, self).__init__()\n",
    "        self.hidden_size = hidden_size\n",
    "        self.num_layers = num_layers\n",
    "        self.lstm = nn.LSTM(input_size, hidden_size, num_layers, batch_first=True)\n",
    "        self.fc = nn.Linear(hidden_size, output_size)\n",
    "        self.softmax = nn.Softmax(dim=1)\n",
    "\n",
    "    def forward(self, x):\n",
    "        h0 = torch.zeros(self.num_layers, x.size(0), self.hidden_size).to(x.device)\n",
    "        c0 = torch.zeros(self.num_layers, x.size(0), self.hidden_size).to(x.device)\n",
    "        out, _ = self.lstm(x, (h0, c0))\n",
    "        out = self.fc(out[:, -1, :])  # Taking the output from the last time step\n",
    "        out = self.softmax(out)  # Apply softmax activation to obtain probabilities\n",
    "        return out\n"
   ]
  },
  {
   "cell_type": "code",
   "execution_count": 11,
   "metadata": {},
   "outputs": [
    {
     "name": "stdout",
     "output_type": "stream",
     "text": [
      "Epoch [100/1000], Loss: 0.6909\n",
      "Epoch [200/1000], Loss: 0.6909\n",
      "Epoch [300/1000], Loss: 0.6909\n",
      "Epoch [400/1000], Loss: 0.6908\n",
      "Epoch [500/1000], Loss: 0.6908\n",
      "Epoch [600/1000], Loss: 0.6908\n",
      "Epoch [700/1000], Loss: 0.6908\n",
      "Epoch [800/1000], Loss: 0.6908\n",
      "Epoch [900/1000], Loss: 0.6908\n",
      "Epoch [1000/1000], Loss: 0.6908\n"
     ]
    }
   ],
   "source": [
    "\n",
    "# Parameters\n",
    "input_size = 1  # Number of features (only 'close' price)\n",
    "hidden_size = 32  # Number of LSTM units\n",
    "num_layers = 2  # Number of LSTM layers\n",
    "output_size = 2  # Output size for binary classification (up or down)\n",
    "sequence_length = 15  # Number of bars to consider for prediction\n",
    "\n",
    "# Instantiate the model and move to GPU\n",
    "model = LSTMProbabilistic(input_size, hidden_size, num_layers, output_size).to(device)\n",
    "\n",
    "# Loss function and optimizer\n",
    "criterion = nn.CrossEntropyLoss()\n",
    "optimizer = torch.optim.Adam(model.parameters(), lr=0.001)\n",
    "\n",
    "# Prepare data with sequence length\n",
    "data_sequences = []\n",
    "for i in range(len(data) - sequence_length):\n",
    "    data_sequences.append(data_tensor[:, i:i+sequence_length, :])\n",
    "data_sequences_tensor = torch.cat(data_sequences, dim=0)\n",
    "\n",
    "# Training loop\n",
    "num_epochs = 1000\n",
    "losses = []\n",
    "\n",
    "for epoch in range(num_epochs):\n",
    "    # Forward pass\n",
    "    outputs = model(data_sequences_tensor)\n",
    "    \n",
    "    # Prepare target labels (0 for down, 1 for up)\n",
    "    target_labels = torch.zeros_like(data_sequences_tensor[:, -1, :])  # Initialize with zeros\n",
    "    target_labels[data_sequences_tensor[:, -1, :] > data_sequences_tensor[:, -2, :]] = 1  # Set to 1 where price goes up\n",
    "    \n",
    "    # Flatten the target_labels tensor\n",
    "    target_labels = target_labels.view(-1)\n",
    "    \n",
    "    # Flatten the outputs tensor\n",
    "    outputs = outputs.view(-1, output_size)\n",
    "    \n",
    "    loss = criterion(outputs, target_labels.long())  # Cross entropy loss\n",
    "    \n",
    "    # Backward and optimize\n",
    "    optimizer.zero_grad()\n",
    "    loss.backward()\n",
    "    optimizer.step()\n",
    "    \n",
    "    losses.append(loss.item())  # Store the loss value for visualization\n",
    "    \n",
    "    if (epoch+1) % 100 == 0:\n",
    "        print(f'Epoch [{epoch+1}/{num_epochs}], Loss: {loss.item():.4f}')\n"
   ]
  },
  {
   "cell_type": "code",
   "execution_count": null,
   "metadata": {},
   "outputs": [],
   "source": [
    "import pandas as pd\n",
    "\n",
    "# Training loop\n",
    "num_epochs = 1000\n",
    "losses = []\n",
    "predictions = []\n",
    "\n",
    "for epoch in range(num_epochs):\n",
    "    # Forward pass\n",
    "    outputs = model(data_sequences_tensor)\n",
    "    \n",
    "    # Convert outputs to probabilities using softmax\n",
    "    probabilities = torch.softmax(outputs, dim=2).squeeze().cpu().numpy()\n",
    "    predicted_labels = torch.argmax(outputs, dim=2).squeeze().cpu().numpy()\n",
    "    \n",
    "    # Extract actual labels from the last element of each data sequence\n",
    "    actual_labels = (data_sequences_tensor[:, -1, :] > data_sequences_tensor[:, -2, :]).squeeze().cpu().numpy().astype(int)\n",
    "    \n",
    "    # Combine predictions, probabilities, actual labels, and timestamps into a DataFrame\n",
    "    for i in range(len(probabilities)):\n",
    "        predictions.append({\n",
    "            'Timestamp': data['timestamp'][i + sequence_length],\n",
    "            'Predicted Label': predicted_labels[i],\n",
    "            'Actual Label': actual_labels[i],\n",
    "            'Probability (Down)': probabilities[i][0],\n",
    "            'Probability (Up)': probabilities[i][1]\n",
    "        })\n",
    "    \n",
    "    loss = criterion(outputs.view(-1, output_size), target_labels.long())  # Cross entropy loss\n",
    "    \n",
    "    # Backward and optimize\n",
    "    optimizer.zero_grad()\n",
    "    loss.backward()\n",
    "    optimizer.step()\n",
    "    \n",
    "    losses.append(loss.item())  # Store the loss value for visualization\n",
    "    \n",
    "    if (epoch+1) % 100 == 0:\n",
    "        print(f'Epoch [{epoch+1}/{num_epochs}], Loss: {loss.item():.4f}')\n",
    "\n",
    "# Create DataFrame from predictions\n",
    "predictions_df = pd.DataFrame(predictions)\n",
    "\n",
    "# Display the DataFrame\n",
    "print(predictions_df)"
   ]
  },
  {
   "cell_type": "code",
   "execution_count": 17,
   "metadata": {},
   "outputs": [
    {
     "name": "stdout",
     "output_type": "stream",
     "text": [
      "                  Timestamp  Predicted Label  Actual Label  \\\n",
      "0       2023-01-01 17:48:00                0             0   \n",
      "1       2023-01-01 17:49:00                0             1   \n",
      "2       2023-01-01 17:50:00                0             0   \n",
      "3       2023-01-01 17:51:00                0             0   \n",
      "4       2023-01-01 17:52:00                0             1   \n",
      "...                     ...              ...           ...   \n",
      "322617  2023-12-29 16:54:00                0             1   \n",
      "322618  2023-12-29 16:55:00                0             0   \n",
      "322619  2023-12-29 16:56:00                0             0   \n",
      "322620  2023-12-29 16:57:00                0             0   \n",
      "322621  2023-12-29 16:58:00                0             0   \n",
      "\n",
      "        Probability (Down)  Probability (Up)  \n",
      "0                 0.538237          0.461763  \n",
      "1                 0.538248          0.461752  \n",
      "2                 0.538261          0.461739  \n",
      "3                 0.538280          0.461720  \n",
      "4                 0.538306          0.461694  \n",
      "...                    ...               ...  \n",
      "322617            0.521796          0.478204  \n",
      "322618            0.521794          0.478206  \n",
      "322619            0.521807          0.478193  \n",
      "322620            0.521821          0.478179  \n",
      "322621            0.521797          0.478203  \n",
      "\n",
      "[322622 rows x 5 columns]\n"
     ]
    }
   ],
   "source": [
    "import pandas as pd\n",
    "\n",
    "# Evaluate the model on the test data\n",
    "with torch.no_grad():\n",
    "    predictions = []  # List to store predictions and probabilities\n",
    "\n",
    "    for i in range(len(data) - sequence_length):\n",
    "        data_sequence = data_tensor[:, i:i+sequence_length, :]\n",
    "        output = model(data_sequence)  # Perform prediction\n",
    "        probabilities = torch.softmax(output, dim=1).cpu().numpy().flatten()  # Calculate probabilities\n",
    "        predicted_label = torch.argmax(output).item()  # Get predicted label (0 or 1)\n",
    "        \n",
    "        # Determine actual label based on the movement of the next bar\n",
    "        actual_label = 0 if data_tensor[:, i+sequence_length, :] <= data_tensor[:, i+sequence_length-1, :] else 1\n",
    "        \n",
    "        # Store prediction result (1 for correct, 0 for incorrect)\n",
    "        predictions.append({\n",
    "            'Timestamp': data['timestamp'][i + sequence_length],\n",
    "            'Predicted Label': predicted_label,\n",
    "            'Actual Label': actual_label,\n",
    "            'Probability (Down)': probabilities[0],  # Probability of price going down\n",
    "            'Probability (Up)': probabilities[1]     # Probability of price going up\n",
    "        })\n",
    "\n",
    "# Create a DataFrame to display predictions\n",
    "predictions_df = pd.DataFrame(predictions)\n",
    "\n",
    "# Display the DataFrame\n",
    "print(predictions_df)\n"
   ]
  },
  {
   "cell_type": "code",
   "execution_count": 18,
   "metadata": {},
   "outputs": [
    {
     "data": {
      "image/png": "[encoded data removed]",
      "text/plain": [
       "<Figure size 640x480 with 1 Axes>"
      ]
     },
     "metadata": {},
     "output_type": "display_data"
    }
   ],
   "source": [
    "# Visualize the loss over epochs\n",
    "plt.plot(losses)\n",
    "plt.xlabel('Epoch')\n",
    "plt.ylabel('Loss')\n",
    "plt.title('Training Loss over Epochs')\n",
    "plt.show()"
   ]
  },
  {
   "cell_type": "code",
   "execution_count": null,
   "metadata": {},
   "outputs": [],
   "source": [
    "# Save PyTorch model\n",
    "torch.save(model.state_dict(), './TrainedModals/lstm_probablistic_2023.pth')\n",
    "\n",
    "# Save DataFrame to CSV\n",
    "predictions_df.to_csv('./results/lstm_probablistic_2023.csv', index=False)\n"
   ]
  },
  {
   "cell_type": "code",
   "execution_count": null,
   "metadata": {},
   "outputs": [],
   "source": [
    "import matplotlib.pyplot as plt\n",
    "\n",
    "# Define the number of timestamps for each plot\n",
    "timestamps_per_plot = 1000\n",
    "\n",
    "# Evaluate the model on the test data\n",
    "with torch.no_grad():\n",
    "    for i in range(0, len(data) - sequence_length, timestamps_per_plot):\n",
    "        # Extract the subset of data sequences for this plot\n",
    "        data_sequences_subset = data_tensor[:, i:i+timestamps_per_plot+sequence_length, :]\n",
    "        \n",
    "        # Perform forward pass to get predictions\n",
    "        outputs = model(data_sequences_subset)\n",
    "        \n",
    "        # Convert outputs to probabilities using softmax\n",
    "        probabilities = torch.softmax(outputs, dim=2).squeeze().cpu().numpy()\n",
    "        \n",
    "        # Extract the timestamps and probabilities for the current subset\n",
    "        subset_timestamps = data['timestamp'][i:i+timestamps_per_plot+sequence_length]\n",
    "        subset_probabilities_down = probabilities[:, 0]\n",
    "        subset_probabilities_up = probabilities[:, 1]\n",
    "        \n",
    "        # Plot the probabilities for the current subset\n",
    "        plt.figure(figsize=(10, 6))\n",
    "        plt.plot(subset_timestamps[sequence_length:], subset_probabilities_down, label='Probability of Going Down')\n",
    "        plt.plot(subset_timestamps[sequence_length:], subset_probabilities_up, label='Probability of Going Up')\n",
    "        plt.title('Probability of Price Movement for Subset of Data')\n",
    "        plt.xlabel('Timestamp')\n",
    "        plt.ylabel('Probability')\n",
    "        plt.legend()\n",
    "        plt.xticks(rotation=45)\n",
    "        plt.grid(True)\n",
    "        plt.tight_layout()\n",
    "        plt.show()\n"
   ]
  }
 ],
 "metadata": {
  "kernelspec": {
   "display_name": "Python 3",
   "language": "python",
   "name": "python3"
  },
  "language_info": {
   "codemirror_mode": {
    "name": "ipython",
    "version": 3
   },
   "file_extension": ".py",
   "mimetype": "text/x-python",
   "name": "python",
   "nbconvert_exporter": "python",
   "pygments_lexer": "ipython3",
   "version": "3.12.1"
  }
 },
 "nbformat": 4,
 "nbformat_minor": 2
}
