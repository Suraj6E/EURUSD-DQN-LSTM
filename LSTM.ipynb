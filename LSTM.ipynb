{
 "cells": [
  {
   "cell_type": "markdown",
   "metadata": {},
   "source": [
    "### Probablistic LSTM Modal"
   ]
  },
  {
   "cell_type": "code",
   "execution_count": 1,
   "metadata": {},
   "outputs": [],
   "source": [
    "import torch\n",
    "import torch.nn as nn\n",
    "import torch.optim as optim\n",
    "import numpy as np\n",
    "import matplotlib.pyplot as plt\n",
    "import pandas as pd\n",
    "from torch.utils.data import TensorDataset, DataLoader\n"
   ]
  },
  {
   "cell_type": "code",
   "execution_count": 187,
   "metadata": {},
   "outputs": [
    {
     "data": {
      "text/plain": [
       "device(type='cuda')"
      ]
     },
     "execution_count": 187,
     "metadata": {},
     "output_type": "execute_result"
    }
   ],
   "source": [
    "# Check if GPU is available\n",
    "device = torch.device(\"cuda\" if torch.cuda.is_available() else \"cpu\")\n",
    "device"
   ]
  },
  {
   "cell_type": "code",
   "execution_count": 188,
   "metadata": {},
   "outputs": [
    {
     "name": "stdout",
     "output_type": "stream",
     "text": [
      "            timestamp     open     high      low    close\n",
      "0 2023-01-01 17:00:00  1.06973  1.07066  1.06899  1.06899\n",
      "1 2023-01-01 17:15:00  1.06788  1.06788  1.06788  1.06788\n",
      "2 2023-01-01 17:30:00  1.06904  1.06958  1.06904  1.06934\n",
      "3 2023-01-01 17:45:00  1.06962  1.07061  1.06823  1.06929\n",
      "4 2023-01-01 18:00:00  1.06896  1.07040  1.06829  1.06895\n",
      "5 2023-01-01 18:15:00  1.06933  1.07047  1.06849  1.06939\n",
      "6 2023-01-01 18:30:00  1.06950  1.06997  1.06923  1.06941\n",
      "7 2023-01-01 18:45:00  1.06947  1.07012  1.06942  1.06986\n",
      "8 2023-01-01 19:00:00  1.07007  1.07034  1.06994  1.06999\n",
      "9 2023-01-01 19:15:00  1.07006  1.07007  1.06948  1.06973\n",
      "                           timestamp          open          high  \\\n",
      "count                          21632  21632.000000  21632.000000   \n",
      "mean   2023-07-09 02:56:57.561945344      1.080766      1.081093   \n",
      "min              2023-01-01 17:00:00      1.045240      1.045590   \n",
      "25%              2023-04-02 20:56:15      1.068360      1.068660   \n",
      "50%              2023-07-23 23:52:30      1.081570      1.081955   \n",
      "75%              2023-10-11 17:33:45      1.092640      1.092970   \n",
      "max              2023-12-29 16:45:00      1.127180      1.127560   \n",
      "std                              NaN      0.016275      0.016268   \n",
      "\n",
      "                low         close  \n",
      "count  21632.000000  21632.000000  \n",
      "mean       1.080439      1.080698  \n",
      "min        1.044830      1.045190  \n",
      "25%        1.068070      1.068310  \n",
      "50%        1.081190      1.081495  \n",
      "75%        1.092320      1.092560  \n",
      "max        1.126430      1.127040  \n",
      "std        0.016281      0.016278  \n"
     ]
    },
    {
     "data": {
      "text/html": [
       "<div>\n",
       "<style scoped>\n",
       "    .dataframe tbody tr th:only-of-type {\n",
       "        vertical-align: middle;\n",
       "    }\n",
       "\n",
       "    .dataframe tbody tr th {\n",
       "        vertical-align: top;\n",
       "    }\n",
       "\n",
       "    .dataframe thead th {\n",
       "        text-align: right;\n",
       "    }\n",
       "</style>\n",
       "<table border=\"1\" class=\"dataframe\">\n",
       "  <thead>\n",
       "    <tr style=\"text-align: right;\">\n",
       "      <th></th>\n",
       "      <th>timestamp</th>\n",
       "      <th>open</th>\n",
       "      <th>high</th>\n",
       "      <th>low</th>\n",
       "      <th>close</th>\n",
       "    </tr>\n",
       "  </thead>\n",
       "  <tbody>\n",
       "    <tr>\n",
       "      <th>0</th>\n",
       "      <td>2023-01-01 17:00:00</td>\n",
       "      <td>1.06973</td>\n",
       "      <td>1.07066</td>\n",
       "      <td>1.06899</td>\n",
       "      <td>1.06899</td>\n",
       "    </tr>\n",
       "    <tr>\n",
       "      <th>1</th>\n",
       "      <td>2023-01-01 17:15:00</td>\n",
       "      <td>1.06788</td>\n",
       "      <td>1.06788</td>\n",
       "      <td>1.06788</td>\n",
       "      <td>1.06788</td>\n",
       "    </tr>\n",
       "    <tr>\n",
       "      <th>2</th>\n",
       "      <td>2023-01-01 17:30:00</td>\n",
       "      <td>1.06904</td>\n",
       "      <td>1.06958</td>\n",
       "      <td>1.06904</td>\n",
       "      <td>1.06934</td>\n",
       "    </tr>\n",
       "    <tr>\n",
       "      <th>3</th>\n",
       "      <td>2023-01-01 17:45:00</td>\n",
       "      <td>1.06962</td>\n",
       "      <td>1.07061</td>\n",
       "      <td>1.06823</td>\n",
       "      <td>1.06929</td>\n",
       "    </tr>\n",
       "    <tr>\n",
       "      <th>4</th>\n",
       "      <td>2023-01-01 18:00:00</td>\n",
       "      <td>1.06896</td>\n",
       "      <td>1.07040</td>\n",
       "      <td>1.06829</td>\n",
       "      <td>1.06895</td>\n",
       "    </tr>\n",
       "    <tr>\n",
       "      <th>...</th>\n",
       "      <td>...</td>\n",
       "      <td>...</td>\n",
       "      <td>...</td>\n",
       "      <td>...</td>\n",
       "      <td>...</td>\n",
       "    </tr>\n",
       "    <tr>\n",
       "      <th>34747</th>\n",
       "      <td>2023-12-29 15:45:00</td>\n",
       "      <td>1.10431</td>\n",
       "      <td>1.10434</td>\n",
       "      <td>1.10383</td>\n",
       "      <td>1.10391</td>\n",
       "    </tr>\n",
       "    <tr>\n",
       "      <th>34748</th>\n",
       "      <td>2023-12-29 16:00:00</td>\n",
       "      <td>1.10411</td>\n",
       "      <td>1.10411</td>\n",
       "      <td>1.10341</td>\n",
       "      <td>1.10354</td>\n",
       "    </tr>\n",
       "    <tr>\n",
       "      <th>34749</th>\n",
       "      <td>2023-12-29 16:15:00</td>\n",
       "      <td>1.10356</td>\n",
       "      <td>1.10364</td>\n",
       "      <td>1.10339</td>\n",
       "      <td>1.10349</td>\n",
       "    </tr>\n",
       "    <tr>\n",
       "      <th>34750</th>\n",
       "      <td>2023-12-29 16:30:00</td>\n",
       "      <td>1.10362</td>\n",
       "      <td>1.10385</td>\n",
       "      <td>1.10358</td>\n",
       "      <td>1.10366</td>\n",
       "    </tr>\n",
       "    <tr>\n",
       "      <th>34751</th>\n",
       "      <td>2023-12-29 16:45:00</td>\n",
       "      <td>1.10377</td>\n",
       "      <td>1.10395</td>\n",
       "      <td>1.10361</td>\n",
       "      <td>1.10361</td>\n",
       "    </tr>\n",
       "  </tbody>\n",
       "</table>\n",
       "<p>21632 rows × 5 columns</p>\n",
       "</div>"
      ],
      "text/plain": [
       "                timestamp     open     high      low    close\n",
       "0     2023-01-01 17:00:00  1.06973  1.07066  1.06899  1.06899\n",
       "1     2023-01-01 17:15:00  1.06788  1.06788  1.06788  1.06788\n",
       "2     2023-01-01 17:30:00  1.06904  1.06958  1.06904  1.06934\n",
       "3     2023-01-01 17:45:00  1.06962  1.07061  1.06823  1.06929\n",
       "4     2023-01-01 18:00:00  1.06896  1.07040  1.06829  1.06895\n",
       "...                   ...      ...      ...      ...      ...\n",
       "34747 2023-12-29 15:45:00  1.10431  1.10434  1.10383  1.10391\n",
       "34748 2023-12-29 16:00:00  1.10411  1.10411  1.10341  1.10354\n",
       "34749 2023-12-29 16:15:00  1.10356  1.10364  1.10339  1.10349\n",
       "34750 2023-12-29 16:30:00  1.10362  1.10385  1.10358  1.10366\n",
       "34751 2023-12-29 16:45:00  1.10377  1.10395  1.10361  1.10361\n",
       "\n",
       "[21632 rows x 5 columns]"
      ]
     },
     "execution_count": 188,
     "metadata": {},
     "output_type": "execute_result"
    }
   ],
   "source": [
    "# data = pd.read_csv(\"./data_saved/EURUSD_M1_2023.csv\")\n",
    "\n",
    "filename = \"EURUSD_M1_2023.csv\"\n",
    "\n",
    "\n",
    "df = pd.read_csv(\"./data_saved/\"+filename)\n",
    " # Convert 'timestamp' column to datetime\n",
    "df['timestamp'] = pd.to_datetime(df['timestamp']) \n",
    "\n",
    "#timestamp as index\n",
    "df.set_index('timestamp', inplace=True)\n",
    "data = df.resample('15min').agg({'open': 'first', 'high': 'max', 'low': 'min', 'close': 'last'}).reset_index()\n",
    "\n",
    "#Drop NA rows\n",
    "data = data.dropna(axis=0)\n",
    "\n",
    "\n",
    "# data = data['close']\n",
    "\n",
    "\n",
    "print(data.head(10))\n",
    "print(data.describe())\n",
    "\n",
    "# data = data.iloc[:100]\n",
    "\n",
    "\n",
    "# # Normalize data\n",
    "# data_norm = data.copy()\n",
    "# data_norm[['open', 'high', 'low', 'close']] = (data[['open', 'high', 'low', 'close']] - data[['open', 'high', 'low', 'close']].mean()) / data[['open', 'high', 'low', 'close']].std()\n",
    "\n",
    "\n",
    "data"
   ]
  },
  {
   "cell_type": "code",
   "execution_count": 189,
   "metadata": {},
   "outputs": [],
   "source": [
    "# Convert DataFrame to PyTorch tensor and move to GPU\n",
    "data_tensor = torch.tensor(data[['close']].values, dtype=torch.float32).unsqueeze(0).to(device)  # Add batch dimension\n",
    "\n",
    "# data_tensor = data_tensor[:100]"
   ]
  },
  {
   "cell_type": "code",
   "execution_count": 190,
   "metadata": {},
   "outputs": [],
   "source": [
    "# # Define the Gaussian LSTM model\n",
    "# class GaussianLSTM(nn.Module):\n",
    "#     def __init__(self, input_size, hidden_size, num_layers, output_size):\n",
    "#         super(GaussianLSTM, self).__init__()\n",
    "#         self.hidden_size = hidden_size\n",
    "#         self.num_layers = num_layers\n",
    "#         self.lstm = nn.LSTM(input_size, hidden_size, num_layers, batch_first=True)\n",
    "#         self.fc_mean = nn.Linear(hidden_size, output_size)  # Output mean\n",
    "#         self.fc_variance = nn.Linear(hidden_size, output_size)  # Output variance\n",
    "\n",
    "#     def forward(self, x):\n",
    "#         h0 = torch.zeros(self.num_layers, x.size(0), self.hidden_size).to(x.device)\n",
    "#         c0 = torch.zeros(self.num_layers, x.size(0), self.hidden_size).to(x.device)\n",
    "#         out, _ = self.lstm(x, (h0, c0))\n",
    "#         mean = self.fc_mean(out[:, -1, :])  # Mean of the Gaussian distribution\n",
    "#         variance = torch.exp(self.fc_variance(out[:, -1, :]))  # Variance (apply exp to ensure positivity)\n",
    "#         return mean, variance\n"
   ]
  },
  {
   "cell_type": "code",
   "execution_count": 191,
   "metadata": {},
   "outputs": [],
   "source": [
    "# class DeterministicLSTM(nn.Module):\n",
    "#     def __init__(self, input_size, hidden_size):\n",
    "#         super(DeterministicLSTM, self).__init__()\n",
    "#         self.hidden_size = hidden_size\n",
    "#         self.lstm = nn.LSTM(input_size, hidden_size)\n",
    "#         self.fc = nn.Linear(hidden_size, 1)  # Output a single point prediction\n",
    "\n",
    "#     def forward(self, input):\n",
    "#         lstm_out, _ = self.lstm(input)\n",
    "#         output = self.fc(lstm_out[-1])  # Use only the last output of the sequence\n",
    "#         return output\n",
    "\n",
    "\n",
    "import torch.nn.functional as F\n",
    "\n",
    "class DeterministicLSTM(nn.Module):\n",
    "    def __init__(self, input_size, hidden_size):\n",
    "        super(DeterministicLSTM, self).__init__()\n",
    "        self.hidden_size = hidden_size\n",
    "        self.lstm = nn.LSTM(input_size, hidden_size)\n",
    "        self.fc = nn.Linear(hidden_size, 1)  # Output a single point prediction\n",
    "\n",
    "    def forward(self, input):\n",
    "        lstm_out, _ = self.lstm(input)\n",
    "        output = self.fc(lstm_out[-1])  # Use only the last output of the sequence\n",
    "        # output = F.relu(output)  # Applying ReLU activation function\n",
    "        return output"
   ]
  },
  {
   "cell_type": "code",
   "execution_count": 192,
   "metadata": {},
   "outputs": [],
   "source": [
    "\n",
    "# # Train the model\n",
    "# def train_model(model, criterion, optimizer, data_sequences_tensor, target_labels, num_epochs=100):\n",
    "#     losses = []\n",
    "#     for epoch in range(num_epochs):\n",
    "#         optimizer.zero_grad()\n",
    "#         mean, variance = model(data_sequences_tensor)\n",
    "#         loss = criterion(target_labels, mean, variance)\n",
    "#         loss.backward()\n",
    "#         optimizer.step()\n",
    "#         losses.append(loss.item())\n",
    "#         if (epoch+1) % 10 == 0:\n",
    "#             print(f'Epoch [{epoch+1}/{num_epochs}], Loss: {loss.item():.4f}')\n",
    "#     return losses\n",
    "\n",
    "# # Define negative log likelihood loss for Gaussian distribution\n",
    "# def gaussian_nll_loss(y_true, mean, variance):\n",
    "#     return torch.mean(0.5 * torch.log(variance) + 0.5 * ((y_true - mean) ** 2) / variance)\n",
    "\n",
    "# # Make predictions and calculate upper and lower bounds\n",
    "# def predict(model, data_sequences_tensor):\n",
    "#     mean, variance = model(data_sequences_tensor)\n",
    "#     std_dev = torch.sqrt(variance)\n",
    "#     upper_bound = mean + 2 * std_dev  # 95% confidence interval\n",
    "#     lower_bound = mean - 2 * std_dev  # 95% confidence interval\n",
    "#     return mean, upper_bound, lower_bound\n",
    "\n",
    "\n",
    "\n",
    "# # Parameters\n",
    "# input_size = 1\n",
    "# hidden_size = 10\n",
    "# num_layers = 2\n",
    "# output_size = 1\n",
    "# sequence_length = 15\n",
    "# num_epochs = 10\n",
    "# learning_rate = 0.001\n",
    "\n",
    "# # Instantiate the model and move to GPU\n",
    "# model = GaussianLSTM(input_size, hidden_size, num_layers, output_size)\n",
    "\n",
    "# # Move the model to the same device as the input data\n",
    "# device = torch.device(\"cuda\" if torch.cuda.is_available() else \"cpu\")\n",
    "# model.to(device)\n",
    "\n",
    "# # Loss function and optimizer\n",
    "# optimizer = optim.Adam(model.parameters(), lr=learning_rate)\n",
    "\n",
    "# # Prepare data with sequence length\n",
    "# data_sequences_tensor = torch.cat([data_tensor[:, i:i+sequence_length, :] for i in range(len(data) - sequence_length)], dim=0)\n",
    "\n",
    "# # Convert data sequences to PyTorch tensors and move to GPU\n",
    "# data_sequences_tensor = data_sequences_tensor.to(device)\n",
    "\n",
    "# # Target labels (using next data point as label for simplicity)\n",
    "# target_labels = data_tensor[:, sequence_length:, :][:, -1, :].to(device)\n",
    "\n",
    "# # Train the model\n",
    "# losses = train_model(model, gaussian_nll_loss, optimizer, data_sequences_tensor, target_labels, num_epochs)"
   ]
  },
  {
   "cell_type": "code",
   "execution_count": 193,
   "metadata": {},
   "outputs": [],
   "source": [
    "# # Define the window size\n",
    "# window_size = 10\n",
    "\n",
    "# # Generate X_train and y_train tensors\n",
    "# X_train = torch.cat([data_tensor[:, i:i+window_size] for i in range(len(data_tensor[0]) - window_size)], dim=0)\n",
    "# y_train = data_tensor[:, window_size:].squeeze(0)  # Remove the extra dimension\n",
    "\n",
    "# # Convert y_train to have an extra dimension for single output\n",
    "# y_train = y_train.unsqueeze(2)\n",
    "\n",
    "# # Print shapes for verification\n",
    "# print(\"X_train shape:\", X_train.shape)\n",
    "# print(\"y_train shape:\", y_train.shape)\n",
    "\n",
    "# # Model parameters\n",
    "# input_size = 1  # Assuming univariate time series\n",
    "# hidden_size = 32\n",
    "# learning_rate = 0.001\n",
    "# num_epochs = 500\n",
    "\n",
    "# # Create model instance\n",
    "# model = DeterministicLSTM(input_size, hidden_size)\n",
    "\n",
    "# # Move the model to the same device as the input data\n",
    "# device = torch.device(\"cuda\" if torch.cuda.is_available() else \"cpu\")\n",
    "# model.to(device)\n",
    "\n",
    "# # Define loss function and optimizer\n",
    "# criterion = nn.MSELoss()  # Mean Squared Error loss for regression task\n",
    "# optimizer = optim.Adam(model.parameters(), lr=learning_rate)\n",
    "\n",
    "# # Train the model\n",
    "# losses = []\n",
    "# for epoch in range(num_epochs):\n",
    "#     optimizer.zero_grad()\n",
    "#     output = model(X_train)\n",
    "#     loss = criterion(output, y_train)\n",
    "#     loss.backward()\n",
    "#     optimizer.step()\n",
    "#     losses.append(loss.item())\n",
    "#     if (epoch+1) % 10 == 0:\n",
    "#         print(f'Epoch [{epoch+1}/{num_epochs}], Loss: {loss.item():.4f}')\n"
   ]
  },
  {
   "cell_type": "code",
   "execution_count": 194,
   "metadata": {},
   "outputs": [],
   "source": [
    "# filename = \"EURUSD_M1_202401.csv\"\n",
    "\n",
    "\n",
    "# pred_df = pd.read_csv(\"./data_saved/\"+filename)\n",
    "#  # Convert 'timestamp' column to datetime\n",
    "# pred_df['timestamp'] = pd.to_datetime(pred_df['timestamp']) \n",
    "\n",
    "# #timestamp as index\n",
    "# pred_df.set_index('timestamp', inplace=True)\n",
    "# pred_data = df.resample('15min').agg({'open': 'first', 'high': 'max', 'low': 'min', 'close': 'last'}).reset_index()\n",
    "\n",
    "# #Drop NA rows\n",
    "# pred_data = pred_data.dropna(axis=0)\n",
    "\n",
    "# # Convert DataFrame to PyTorch tensor and move to GPU\n",
    "# pred_data_tensor = torch.tensor(pred_data[['close']].values, dtype=torch.float32).unsqueeze(0).to(device)  # Add batch dimension\n",
    "\n",
    "# # with torch.no_grad():\n",
    "# # predicted_output = model(pred_data_tensor)\n",
    "\n",
    "# # Make predictions\n",
    "# with torch.no_grad():\n",
    "#     model.eval()  # Set the model to evaluation mode\n",
    "#     predicted_output = model(pred_data_tensor)\n",
    "\n",
    "# print(predicted_output)\n",
    "\n",
    "# test_loss = criterion(predicted_output, pred_data_tensor)\n",
    "\n",
    "# print('Test Loss:', test_loss.item())\n"
   ]
  },
  {
   "cell_type": "code",
   "execution_count": 195,
   "metadata": {},
   "outputs": [],
   "source": [
    "# # Plotting (optional)\n",
    "# plt.plot(pred_data_tensor[0].cpu().numpy(), label='Actual Data', color='blue')  # Convert tensor to numpy array\n",
    "\n",
    "# # Generate the range based on the length of the predicted data\n",
    "# predicted_range = range(0, len(predicted_output))\n",
    "# plt.plot(predicted_range, predicted_output.cpu().detach().numpy(), label='Predicted Data', color='red')\n",
    "\n",
    "# plt.title('Deterministic LSTM Prediction')\n",
    "# plt.xlabel('Time')\n",
    "# plt.ylabel('Value')\n",
    "# plt.legend()\n",
    "# plt.show()"
   ]
  },
  {
   "cell_type": "code",
   "execution_count": 196,
   "metadata": {},
   "outputs": [],
   "source": [
    "# # Plot loss function within epochs\n",
    "# plt.plot(losses, label='Training Loss')\n",
    "# plt.title('Training Loss')\n",
    "# plt.xlabel('Epoch')\n",
    "# plt.ylabel('Loss')\n",
    "# plt.legend()\n",
    "# plt.show()"
   ]
  },
  {
   "cell_type": "markdown",
   "metadata": {},
   "source": [
    "### Batch training \n",
    "\n"
   ]
  },
  {
   "cell_type": "code",
   "execution_count": 197,
   "metadata": {},
   "outputs": [
    {
     "name": "stderr",
     "output_type": "stream",
     "text": [
      "c:\\Users\\ACER\\AppData\\Local\\Programs\\Python\\Python312\\Lib\\site-packages\\torch\\nn\\modules\\loss.py:535: UserWarning: Using a target size (torch.Size([32, 1, 1])) that is different to the input size (torch.Size([1000, 1])). This will likely lead to incorrect results due to broadcasting. Please ensure they have the same size.\n",
      "  return F.mse_loss(input, target, reduction=self.reduction)\n",
      "c:\\Users\\ACER\\AppData\\Local\\Programs\\Python\\Python312\\Lib\\site-packages\\torch\\nn\\modules\\loss.py:535: UserWarning: Using a target size (torch.Size([25, 1, 1])) that is different to the input size (torch.Size([1000, 1])). This will likely lead to incorrect results due to broadcasting. Please ensure they have the same size.\n",
      "  return F.mse_loss(input, target, reduction=self.reduction)\n",
      "c:\\Users\\ACER\\AppData\\Local\\Programs\\Python\\Python312\\Lib\\site-packages\\torch\\nn\\modules\\loss.py:535: UserWarning: Using a target size (torch.Size([31, 1, 1])) that is different to the input size (torch.Size([1000, 1])). This will likely lead to incorrect results due to broadcasting. Please ensure they have the same size.\n",
      "  return F.mse_loss(input, target, reduction=self.reduction)\n"
     ]
    },
    {
     "name": "stdout",
     "output_type": "stream",
     "text": [
      "Epoch [1/10], Train Loss: 1.1760, Val Loss: 1.6599\n",
      "Epoch [2/10], Train Loss: 1.1761, Val Loss: 1.6599\n",
      "Epoch [3/10], Train Loss: 1.1523, Val Loss: 1.6599\n",
      "Epoch [4/10], Train Loss: 1.1638, Val Loss: 1.6599\n",
      "Epoch [5/10], Train Loss: 1.1791, Val Loss: 1.6599\n",
      "Epoch [6/10], Train Loss: 1.1805, Val Loss: 1.6599\n",
      "Epoch [7/10], Train Loss: 1.1672, Val Loss: 1.6599\n",
      "Epoch [8/10], Train Loss: 1.1607, Val Loss: 1.6599\n",
      "Epoch [9/10], Train Loss: 1.1664, Val Loss: 1.6599\n",
      "Epoch [10/10], Train Loss: 1.1697, Val Loss: 1.6599\n"
     ]
    }
   ],
   "source": [
    "# Define the window size\n",
    "\n",
    "# Assuming you have defined data_tensor, window_size, and target_tensor previously\n",
    "\n",
    "# Define window size\n",
    "window_size = 1000\n",
    "\n",
    "# Generate X_train and y_train tensors\n",
    "X_train = torch.cat([data_tensor[:, i:i+window_size] for i in range(len(data_tensor[0]) - window_size)], dim=0)\n",
    "y_train = data_tensor[:, window_size:].squeeze(0)  # Remove the extra dimension\n",
    "\n",
    "# Convert y_train to have an extra dimension for single output\n",
    "y_train = y_train.unsqueeze(2)\n",
    "\n",
    "# Split data into training and validation sets\n",
    "split_ratio = 0.8  # 80% for training, 20% for validation\n",
    "split_index = int(len(X_train) * split_ratio)\n",
    "\n",
    "X_train_data, X_val_data = X_train[:split_index], X_train[split_index:]\n",
    "y_train_data, y_val_data = y_train[:split_index], y_train[split_index:]\n",
    "\n",
    "# Define batch size\n",
    "batch_size = 32  # You can adjust this value based on your memory constraints\n",
    "\n",
    "# Create DataLoader for training data\n",
    "train_dataset = TensorDataset(X_train_data, y_train_data)\n",
    "train_loader = DataLoader(train_dataset, batch_size=batch_size, shuffle=True)\n",
    "\n",
    "# Create DataLoader for validation data\n",
    "val_dataset = TensorDataset(X_val_data, y_val_data)\n",
    "val_loader = DataLoader(val_dataset, batch_size=batch_size, shuffle=False)\n",
    "\n",
    "\n",
    "# Model parameters\n",
    "input_size = 1  # Assuming univariate time series\n",
    "hidden_size = 32\n",
    "learning_rate = 0.01\n",
    "num_epochs = 10\n",
    "\n",
    "# Create model instance\n",
    "model = DeterministicLSTM(input_size, hidden_size)\n",
    "\n",
    "\n",
    "# Move the model to the same device as the input data\n",
    "device = torch.device(\"cuda\" if torch.cuda.is_available() else \"cpu\")\n",
    "model.to(device)\n",
    "\n",
    "# Define loss function and optimizer\n",
    "criterion = nn.MSELoss()  # Mean Squared Error loss for regression task\n",
    "optimizer = optim.Adam(model.parameters(), lr=learning_rate)\n",
    "\n",
    "# Train the model\n",
    "train_losses = []\n",
    "val_losses = []\n",
    "for epoch in range(num_epochs):\n",
    "    # Training loop\n",
    "    model.train()\n",
    "    for batch_data, batch_target in train_loader:\n",
    "        batch_data = batch_data.to(device)\n",
    "        batch_target = batch_target.to(device)\n",
    "\n",
    "        optimizer.zero_grad()\n",
    "        output = model(batch_data)\n",
    "        output = F.relu(output)  # Applying ReLU activation function\n",
    "        loss = criterion(output, batch_target)\n",
    "        loss.backward()\n",
    "        optimizer.step()\n",
    "        train_losses.append(loss.item())\n",
    "    \n",
    "    # Validation loop\n",
    "    model.eval()\n",
    "    with torch.no_grad():\n",
    "        val_loss = 0\n",
    "        for batch_data, batch_target in val_loader:\n",
    "            batch_data = batch_data.to(device)\n",
    "            batch_target = batch_target.to(device)\n",
    "\n",
    "            output = model(batch_data)\n",
    "            val_loss += criterion(output, batch_target).item()\n",
    "        val_losses.append(val_loss / len(val_loader))\n",
    "    \n",
    "    if (epoch+1) % 1 == 0:\n",
    "        print(f'Epoch [{epoch+1}/{num_epochs}], Train Loss: {train_losses[-1]:.4f}, Val Loss: {val_losses[-1]:.4f}')\n",
    "    \n"
   ]
  },
  {
   "cell_type": "code",
   "execution_count": 200,
   "metadata": {},
   "outputs": [],
   "source": [
    "import torch\n",
    "import torch.nn as nn\n",
    "import numpy as np\n",
    "import pandas as pd\n",
    "import matplotlib.pyplot as plt\n",
    "from sklearn.preprocessing import MinMaxScaler\n",
    "\n",
    "# Check if GPU is available\n",
    "device = torch.device(\"cuda\" if torch.cuda.is_available() else \"cpu\")\n",
    "\n",
    "# Assuming df is your dataframe containing stock data\n",
    "\n",
    "# Create a new dataframe with only the 'Close' column\n",
    "data = df.filter(['close'])\n",
    "\n",
    "# Convert the dataframe to a numpy array\n",
    "dataset = data.values\n",
    "\n",
    "# Get the number of rows to train the model on\n",
    "training_data_len = int(np.ceil(len(dataset) * .95))\n",
    "\n",
    "# Scale the data\n",
    "scaler = MinMaxScaler(feature_range=(0, 1))\n",
    "scaled_data = scaler.fit_transform(dataset)\n",
    "\n",
    "# Create the training data set\n",
    "train_data = scaled_data[0:training_data_len, :]\n",
    "\n",
    "# Convert the training data to PyTorch tensors and move to GPU\n",
    "x_train = []\n",
    "y_train = []\n",
    "\n",
    "for i in range(60, len(train_data)):\n",
    "    x_train.append(train_data[i-60:i, 0])\n",
    "    y_train.append(train_data[i, 0])\n",
    "\n",
    "x_train, y_train = np.array(x_train), np.array(y_train)\n",
    "x_train = torch.from_numpy(x_train).float().to(device)\n",
    "y_train = torch.from_numpy(y_train).float().to(device)\n",
    "\n",
    "# Define the LSTM model and move to GPU\n",
    "class LSTMModel(nn.Module):\n",
    "    def __init__(self, input_size=1, hidden_layer_size=128, output_size=1):\n",
    "        super().__init__()\n",
    "        self.hidden_layer_size = hidden_layer_size\n",
    "        self.lstm = nn.LSTM(input_size, hidden_layer_size)\n",
    "        self.linear = nn.Linear(hidden_layer_size, output_size)\n",
    "        self.hidden_cell = (torch.zeros(1,1,self.hidden_layer_size).to(device),\n",
    "                            torch.zeros(1,1,self.hidden_layer_size).to(device))\n",
    "\n",
    "    def forward(self, input_seq):\n",
    "        lstm_out, self.hidden_cell = self.lstm(input_seq.view(len(input_seq) ,1, -1), self.hidden_cell)\n",
    "        predictions = self.linear(lstm_out.view(len(input_seq), -1))\n",
    "        return predictions[-1]\n",
    "\n",
    "# Initialize the model, loss function, and optimizer\n",
    "model = LSTMModel().to(device)\n",
    "loss_function = nn.MSELoss()\n",
    "optimizer = torch.optim.Adam(model.parameters(), lr=0.001)\n",
    "\n",
    "# Train the model on GPU\n",
    "epochs = 5  # Adjust number of epochs as needed\n",
    "train_losses = []\n",
    "for i in range(epochs):\n",
    "    for seq, labels in zip(x_train, y_train):\n",
    "        optimizer.zero_grad()\n",
    "        model.hidden_cell = (torch.zeros(1, 1, model.hidden_layer_size).to(device),\n",
    "                        torch.zeros(1, 1, model.hidden_layer_size).to(device))\n",
    "\n",
    "        y_pred = model(seq)\n",
    "\n",
    "        single_loss = loss_function(y_pred, labels)\n",
    "        single_loss.backward()\n",
    "        train_losses.append(single_loss.item())\n",
    "        optimizer.step()\n",
    "\n",
    "    if (epoch+1) % 1 == 0:\n",
    "        print(f'Epoch [{epoch+1}/{i}], Train Loss: {train_losses[-1]:.4f}')\n",
    "\n",
    "# Create the testing data set\n",
    "test_data = scaled_data[training_data_len-60:, :]\n",
    "x_test = []\n",
    "\n",
    "for i in range(60, len(test_data)):\n",
    "    x_test.append(test_data[i-60:i, 0])\n",
    "\n",
    "x_test = torch.from_numpy(np.array(x_test)).float().to(device)\n",
    "\n",
    "# Make predictions on GPU\n",
    "predictions = []\n",
    "with torch.no_grad():\n",
    "    for i in range(len(x_test)):\n",
    "        model.hidden = (torch.zeros(1, 1, model.hidden_layer_size).to(device),\n",
    "                        torch.zeros(1, 1, model.hidden_layer_size).to(device))\n",
    "        predictions.append(model(x_test[i]))\n",
    "\n",
    "# Convert predictions back to numpy array and inverse scale\n",
    "predictions = torch.tensor(predictions).view(-1).cpu().numpy()\n",
    "predictions = predictions.reshape(-1,1)\n",
    "predictions = scaler.inverse_transform(predictions)\n",
    "\n",
    "# Get the root mean squared error (RMSE)\n",
    "y_test = dataset[training_data_len:, :]\n",
    "rmse = np.sqrt(np.mean(((predictions - y_test) ** 2)))\n",
    "print(\"Root Mean Squared Error (RMSE):\", rmse)\n",
    "\n",
    "# Plot the data\n",
    "train = data[:training_data_len]\n",
    "valid = data[training_data_len:]\n",
    "valid['Predictions'] = predictions\n",
    "\n",
    "plt.figure(figsize=(16,6))\n",
    "plt.title('Model')\n",
    "plt.xlabel('Date', fontsize=18)\n",
    "plt.ylabel('Close Price USD ($)', fontsize=18)\n",
    "plt.plot(train['Close'])\n",
    "plt.plot(valid[['Close', 'Predictions']])\n",
    "plt.legend(['Train', 'Val', 'Predictions'], loc='lower right')\n",
    "plt.show()\n"
   ]
  },
  {
   "cell_type": "code",
   "execution_count": null,
   "metadata": {},
   "outputs": [],
   "source": [
    "# Show the valid and predicted prices\n",
    "valid"
   ]
  },
  {
   "cell_type": "code",
   "execution_count": 163,
   "metadata": {},
   "outputs": [
    {
     "name": "stdout",
     "output_type": "stream",
     "text": [
      "tensor([[0.7553],\n",
      "        [0.7553],\n",
      "        [0.7553],\n",
      "        ...,\n",
      "        [0.7527],\n",
      "        [0.7527],\n",
      "        [0.7527]], device='cuda:0')\n",
      "Test Loss: 0.11435044556856155\n"
     ]
    },
    {
     "name": "stderr",
     "output_type": "stream",
     "text": [
      "c:\\Users\\ACER\\AppData\\Local\\Programs\\Python\\Python312\\Lib\\site-packages\\torch\\nn\\modules\\loss.py:535: UserWarning: Using a target size (torch.Size([1, 1804, 1])) that is different to the input size (torch.Size([1804, 1])). This will likely lead to incorrect results due to broadcasting. Please ensure they have the same size.\n",
      "  return F.mse_loss(input, target, reduction=self.reduction)\n"
     ]
    }
   ],
   "source": [
    "filename = \"EURUSD_M1_202401.csv\"\n",
    "\n",
    "\n",
    "pred_df = pd.read_csv(\"./data_saved/\"+filename)\n",
    " # Convert 'timestamp' column to datetime\n",
    "pred_df['timestamp'] = pd.to_datetime(pred_df['timestamp']) \n",
    "\n",
    "#timestamp as index\n",
    "pred_df.set_index('timestamp', inplace=True)\n",
    "pred_data = pred_df.resample('15min').agg({'open': 'first', 'high': 'max', 'low': 'min', 'close': 'last'}).reset_index()\n",
    "\n",
    "#Drop NA rows\n",
    "pred_data = pred_data.dropna(axis=0)\n",
    "\n",
    "# Convert DataFrame to PyTorch tensor and move to GPU\n",
    "pred_data_tensor = torch.tensor(pred_data[['close']].values, dtype=torch.float32).unsqueeze(0).to(device)  # Add batch dimension\n",
    "\n",
    "# with torch.no_grad():\n",
    "# predicted_output = model(pred_data_tensor)\n",
    "\n",
    "# Make predictions\n",
    "with torch.no_grad():\n",
    "    model.eval()  # Set the model to evaluation mode\n",
    "    predicted_output = model(pred_data_tensor)\n",
    "\n",
    "print(predicted_output)\n",
    "\n",
    "test_loss = criterion(predicted_output, pred_data_tensor)\n",
    "\n",
    "print('Test Loss:', test_loss.item())\n",
    "# Test Loss: 0.025905614718794823"
   ]
  },
  {
   "cell_type": "code",
   "execution_count": 164,
   "metadata": {},
   "outputs": [
    {
     "data": {
      "image/png": "[encoded data removed]",
      "text/plain": [
       "<Figure size 640x480 with 1 Axes>"
      ]
     },
     "metadata": {},
     "output_type": "display_data"
    }
   ],
   "source": [
    "# Plotting (optional)\n",
    "plt.plot(pred_data_tensor[0].cpu().numpy(), label='Actual Data', color='blue')  # Convert tensor to numpy array\n",
    "\n",
    "# Generate the range based on the length of the predicted data\n",
    "predicted_range = range(0, len(predicted_output))\n",
    "plt.plot(predicted_range, predicted_output.cpu().detach().numpy(), label='Predicted Data', color='red')\n",
    "\n",
    "plt.title('Deterministic LSTM Prediction')\n",
    "plt.xlabel('Time')\n",
    "plt.ylabel('Value')\n",
    "plt.legend()\n",
    "plt.show()"
   ]
  },
  {
   "cell_type": "code",
   "execution_count": 15,
   "metadata": {},
   "outputs": [
    {
     "data": {
      "text/plain": [
       "array([[0.9897065 ],\n",
       "       [0.9897424 ],\n",
       "       [0.9897374 ],\n",
       "       [0.9897314 ],\n",
       "       [0.9897561 ],\n",
       "       [0.98979044],\n",
       "       [0.9897717 ],\n",
       "       [0.989702  ],\n",
       "       [0.9897277 ],\n",
       "       [0.98974186],\n",
       "       [0.9896863 ],\n",
       "       [0.9896356 ],\n",
       "       [0.98962396],\n",
       "       [0.9896022 ],\n",
       "       [0.98962545],\n",
       "       [0.9896796 ],\n",
       "       [0.98966056],\n",
       "       [0.9896306 ],\n",
       "       [0.9895967 ],\n",
       "       [0.98957276]], dtype=float32)"
      ]
     },
     "execution_count": 15,
     "metadata": {},
     "output_type": "execute_result"
    }
   ],
   "source": [
    "output.cpu().detach().numpy()"
   ]
  },
  {
   "cell_type": "code",
   "execution_count": 182,
   "metadata": {},
   "outputs": [
    {
     "data": {
      "image/png": "[encoded data removed]",
      "text/plain": [
       "<Figure size 640x480 with 1 Axes>"
      ]
     },
     "metadata": {},
     "output_type": "display_data"
    }
   ],
   "source": [
    "# Plotting (optional)\n",
    "plt.plot(data_tensor[0].cpu().numpy()[:len(data_tensor[0]) - window_size], label='Actual Data', color='blue')  # Convert tensor to numpy array\n",
    "\n",
    "# Generate the range based on the length of the predicted data\n",
    "predicted_range = range(window_size, window_size + len(output))\n",
    "plt.plot(predicted_range, output.cpu().detach().numpy(), label='Predicted Data', color='red')\n",
    "\n",
    "plt.title('Deterministic LSTM Prediction')\n",
    "plt.xlabel('Time')\n",
    "plt.ylabel('Value')\n",
    "plt.legend()\n",
    "plt.show()"
   ]
  },
  {
   "cell_type": "code",
   "execution_count": 159,
   "metadata": {},
   "outputs": [
    {
     "data": {
      "image/png": "[encoded data removed]",
      "text/plain": [
       "<Figure size 640x480 with 1 Axes>"
      ]
     },
     "metadata": {},
     "output_type": "display_data"
    }
   ],
   "source": [
    "# Plot loss function within epochs\n",
    "# plt.plot(train_losses, label='Training Loss')\n",
    "plt.plot(val_losses, label='Value Loss')\n",
    "plt.title('Training Loss')\n",
    "plt.xlabel('Epoch')\n",
    "plt.ylabel('Loss')\n",
    "plt.legend()\n",
    "plt.show()"
   ]
  },
  {
   "cell_type": "code",
   "execution_count": 158,
   "metadata": {},
   "outputs": [],
   "source": [
    "#### save trained modal\n",
    "torch.save(model, './TrainedModals/LSTM_15M_10epoch_0.01.pth')\n"
   ]
  },
  {
   "cell_type": "code",
   "execution_count": 160,
   "metadata": {},
   "outputs": [],
   "source": [
    "# Make predictions\n",
    "# mean_pred, upper_bound_pred, lower_bound_pred = predict(model, data_sequences_tensor)"
   ]
  },
  {
   "cell_type": "code",
   "execution_count": 37,
   "metadata": {},
   "outputs": [
    {
     "data": {
      "image/png": "[encoded data removed]",
      "text/plain": [
       "<Figure size 640x480 with 1 Axes>"
      ]
     },
     "metadata": {},
     "output_type": "display_data"
    }
   ],
   "source": [
    "# Plot loss function within epochs\n",
    "plt.plot(losses, label='Training Loss')\n",
    "plt.title('Training Loss')\n",
    "plt.xlabel('Epoch')\n",
    "plt.ylabel('Loss')\n",
    "plt.legend()\n",
    "plt.show()"
   ]
  },
  {
   "cell_type": "code",
   "execution_count": 47,
   "metadata": {},
   "outputs": [
    {
     "data": {
      "text/html": [
       "<div>\n",
       "<style scoped>\n",
       "    .dataframe tbody tr th:only-of-type {\n",
       "        vertical-align: middle;\n",
       "    }\n",
       "\n",
       "    .dataframe tbody tr th {\n",
       "        vertical-align: top;\n",
       "    }\n",
       "\n",
       "    .dataframe thead th {\n",
       "        text-align: right;\n",
       "    }\n",
       "</style>\n",
       "<table border=\"1\" class=\"dataframe\">\n",
       "  <thead>\n",
       "    <tr style=\"text-align: right;\">\n",
       "      <th></th>\n",
       "      <th>timestamp</th>\n",
       "      <th>open</th>\n",
       "      <th>high</th>\n",
       "      <th>low</th>\n",
       "      <th>close</th>\n",
       "    </tr>\n",
       "  </thead>\n",
       "  <tbody>\n",
       "    <tr>\n",
       "      <th>0</th>\n",
       "      <td>2023-01-01 17:05:00</td>\n",
       "      <td>1.06973</td>\n",
       "      <td>1.06978</td>\n",
       "      <td>1.06970</td>\n",
       "      <td>1.06970</td>\n",
       "    </tr>\n",
       "    <tr>\n",
       "      <th>1</th>\n",
       "      <td>2023-01-01 17:06:00</td>\n",
       "      <td>1.06966</td>\n",
       "      <td>1.06966</td>\n",
       "      <td>1.06966</td>\n",
       "      <td>1.06966</td>\n",
       "    </tr>\n",
       "    <tr>\n",
       "      <th>2</th>\n",
       "      <td>2023-01-01 17:08:00</td>\n",
       "      <td>1.06970</td>\n",
       "      <td>1.06974</td>\n",
       "      <td>1.06970</td>\n",
       "      <td>1.06970</td>\n",
       "    </tr>\n",
       "    <tr>\n",
       "      <th>3</th>\n",
       "      <td>2023-01-01 17:10:00</td>\n",
       "      <td>1.06975</td>\n",
       "      <td>1.06980</td>\n",
       "      <td>1.06972</td>\n",
       "      <td>1.06972</td>\n",
       "    </tr>\n",
       "    <tr>\n",
       "      <th>4</th>\n",
       "      <td>2023-01-01 17:11:00</td>\n",
       "      <td>1.06972</td>\n",
       "      <td>1.06972</td>\n",
       "      <td>1.06972</td>\n",
       "      <td>1.06972</td>\n",
       "    </tr>\n",
       "    <tr>\n",
       "      <th>...</th>\n",
       "      <td>...</td>\n",
       "      <td>...</td>\n",
       "      <td>...</td>\n",
       "      <td>...</td>\n",
       "      <td>...</td>\n",
       "    </tr>\n",
       "    <tr>\n",
       "      <th>322632</th>\n",
       "      <td>2023-12-29 16:54:00</td>\n",
       "      <td>1.10388</td>\n",
       "      <td>1.10390</td>\n",
       "      <td>1.10387</td>\n",
       "      <td>1.10387</td>\n",
       "    </tr>\n",
       "    <tr>\n",
       "      <th>322633</th>\n",
       "      <td>2023-12-29 16:55:00</td>\n",
       "      <td>1.10389</td>\n",
       "      <td>1.10395</td>\n",
       "      <td>1.10387</td>\n",
       "      <td>1.10387</td>\n",
       "    </tr>\n",
       "    <tr>\n",
       "      <th>322634</th>\n",
       "      <td>2023-12-29 16:56:00</td>\n",
       "      <td>1.10394</td>\n",
       "      <td>1.10394</td>\n",
       "      <td>1.10367</td>\n",
       "      <td>1.10367</td>\n",
       "    </tr>\n",
       "    <tr>\n",
       "      <th>322635</th>\n",
       "      <td>2023-12-29 16:57:00</td>\n",
       "      <td>1.10366</td>\n",
       "      <td>1.10366</td>\n",
       "      <td>1.10366</td>\n",
       "      <td>1.10366</td>\n",
       "    </tr>\n",
       "    <tr>\n",
       "      <th>322636</th>\n",
       "      <td>2023-12-29 16:58:00</td>\n",
       "      <td>1.10366</td>\n",
       "      <td>1.10366</td>\n",
       "      <td>1.10361</td>\n",
       "      <td>1.10361</td>\n",
       "    </tr>\n",
       "  </tbody>\n",
       "</table>\n",
       "<p>322637 rows × 5 columns</p>\n",
       "</div>"
      ],
      "text/plain": [
       "                  timestamp     open     high      low    close\n",
       "0       2023-01-01 17:05:00  1.06973  1.06978  1.06970  1.06970\n",
       "1       2023-01-01 17:06:00  1.06966  1.06966  1.06966  1.06966\n",
       "2       2023-01-01 17:08:00  1.06970  1.06974  1.06970  1.06970\n",
       "3       2023-01-01 17:10:00  1.06975  1.06980  1.06972  1.06972\n",
       "4       2023-01-01 17:11:00  1.06972  1.06972  1.06972  1.06972\n",
       "...                     ...      ...      ...      ...      ...\n",
       "322632  2023-12-29 16:54:00  1.10388  1.10390  1.10387  1.10387\n",
       "322633  2023-12-29 16:55:00  1.10389  1.10395  1.10387  1.10387\n",
       "322634  2023-12-29 16:56:00  1.10394  1.10394  1.10367  1.10367\n",
       "322635  2023-12-29 16:57:00  1.10366  1.10366  1.10366  1.10366\n",
       "322636  2023-12-29 16:58:00  1.10366  1.10366  1.10361  1.10361\n",
       "\n",
       "[322637 rows x 5 columns]"
      ]
     },
     "execution_count": 47,
     "metadata": {},
     "output_type": "execute_result"
    }
   ],
   "source": [
    "data"
   ]
  },
  {
   "cell_type": "code",
   "execution_count": 48,
   "metadata": {},
   "outputs": [
    {
     "data": {
      "text/plain": [
       "array([1.10829  , 1.10829  , 1.1082898, ..., 1.1082646, 1.1082647,\n",
       "       1.1082647], dtype=float32)"
      ]
     },
     "execution_count": 48,
     "metadata": {},
     "output_type": "execute_result"
    }
   ],
   "source": [
    "# upper_bound_pred.squeeze().cpu().detach().numpy()"
   ]
  },
  {
   "cell_type": "code",
   "execution_count": 49,
   "metadata": {},
   "outputs": [
    {
     "data": {
      "text/plain": [
       "tensor([[1.1014],\n",
       "        [1.1014],\n",
       "        [1.1014],\n",
       "        ...,\n",
       "        [1.1014],\n",
       "        [1.1014],\n",
       "        [1.1014]], device='cuda:0', grad_fn=<SubBackward0>)"
      ]
     },
     "execution_count": 49,
     "metadata": {},
     "output_type": "execute_result"
    }
   ],
   "source": [
    "# lower_bound_pred"
   ]
  },
  {
   "cell_type": "code",
   "execution_count": 50,
   "metadata": {},
   "outputs": [
    {
     "data": {
      "text/plain": [
       "0         1.06970\n",
       "1         1.06966\n",
       "2         1.06970\n",
       "3         1.06972\n",
       "4         1.06972\n",
       "           ...   \n",
       "322632    1.10387\n",
       "322633    1.10387\n",
       "322634    1.10367\n",
       "322635    1.10366\n",
       "322636    1.10361\n",
       "Name: close, Length: 322637, dtype: float64"
      ]
     },
     "execution_count": 50,
     "metadata": {},
     "output_type": "execute_result"
    }
   ],
   "source": [
    "# data.close"
   ]
  },
  {
   "cell_type": "code",
   "execution_count": 51,
   "metadata": {},
   "outputs": [
    {
     "data": {
      "image/png": "[encoded data removed]",
      "text/plain": [
       "<Figure size 1000x600 with 1 Axes>"
      ]
     },
     "metadata": {},
     "output_type": "display_data"
    }
   ],
   "source": [
    "# Plot predictions\n",
    "def plot_predictions(data, mean, upper_bound, lower_bound):\n",
    "    # data = data.flatten()\n",
    "    plt.figure(figsize=(10, 6))\n",
    "    plt.plot(data['close'], label='Actual Data', color='blue')\n",
    "    plt.plot(mean, label='Mean Prediction', color='red')\n",
    "    plt.plot(upper_bound, label='upper_bound Prediction', color='red')\n",
    "    plt.plot(lower_bound, label='lower_bound Prediction', color='red')\n",
    "    # plt.fill_between(range(len(mean)), upper_bound, lower_bound, color='orange', alpha=0.3, label='95% Confidence Interval')\n",
    "    plt.title('Gaussian LSTM Predictions')\n",
    "    plt.xlabel('Time')\n",
    "    plt.ylabel('Value')\n",
    "    plt.legend()\n",
    "    plt.show()\n",
    "\n",
    "# Plot predictions\n",
    "plot_predictions(data, mean_pred.squeeze().cpu().detach().numpy(), \n",
    "                  upper_bound_pred.squeeze().cpu().detach().numpy(), \n",
    "                  lower_bound_pred.squeeze().cpu().detach().numpy())"
   ]
  },
  {
   "cell_type": "code",
   "execution_count": 52,
   "metadata": {},
   "outputs": [
    {
     "data": {
      "image/png": "[encoded data removed]",
      "text/plain": [
       "<Figure size 640x480 with 1 Axes>"
      ]
     },
     "metadata": {},
     "output_type": "display_data"
    }
   ],
   "source": [
    "# Visualize the loss over epochs\n",
    "plt.plot(losses)\n",
    "plt.xlabel('Epoch')\n",
    "plt.ylabel('Loss')\n",
    "plt.title('Training Loss over Epochs')\n",
    "plt.show()"
   ]
  },
  {
   "cell_type": "code",
   "execution_count": null,
   "metadata": {},
   "outputs": [],
   "source": [
    "# Save PyTorch model\n",
    "# torch.save(model.state_dict(), './TrainedModals/lstm_probablistic_2023.pth')\n"
   ]
  },
  {
   "cell_type": "code",
   "execution_count": 53,
   "metadata": {},
   "outputs": [
    {
     "ename": "NameError",
     "evalue": "name 'predictions_df' is not defined",
     "output_type": "error",
     "traceback": [
      "\u001b[1;31m---------------------------------------------------------------------------\u001b[0m",
      "\u001b[1;31mNameError\u001b[0m                                 Traceback (most recent call last)",
      "Cell \u001b[1;32mIn[53], line 4\u001b[0m\n\u001b[0;32m      1\u001b[0m \u001b[38;5;28;01mimport\u001b[39;00m \u001b[38;5;21;01mmatplotlib\u001b[39;00m\u001b[38;5;21;01m.\u001b[39;00m\u001b[38;5;21;01mpyplot\u001b[39;00m \u001b[38;5;28;01mas\u001b[39;00m \u001b[38;5;21;01mplt\u001b[39;00m\n\u001b[0;32m      3\u001b[0m \u001b[38;5;66;03m# Select a subset of 1000 timestamps\u001b[39;00m\n\u001b[1;32m----> 4\u001b[0m subset_df \u001b[38;5;241m=\u001b[39m \u001b[43mpredictions_df\u001b[49m\u001b[38;5;241m.\u001b[39miloc[\u001b[38;5;241m0\u001b[39m:\u001b[38;5;241m100\u001b[39m]\n\u001b[0;32m      6\u001b[0m \u001b[38;5;66;03m# Plot close price\u001b[39;00m\n\u001b[0;32m      7\u001b[0m plt\u001b[38;5;241m.\u001b[39mfigure(figsize\u001b[38;5;241m=\u001b[39m(\u001b[38;5;241m12\u001b[39m, \u001b[38;5;241m6\u001b[39m))\n",
      "\u001b[1;31mNameError\u001b[0m: name 'predictions_df' is not defined"
     ]
    }
   ],
   "source": [
    "# import matplotlib.pyplot as plt\n",
    "\n",
    "# # Select a subset of 1000 timestamps\n",
    "# subset_df = predictions_df.iloc[0:100]\n",
    "\n",
    "# # Plot close price\n",
    "# plt.figure(figsize=(12, 6))\n",
    "# plt.plot(subset_df['Timestamp'], data['close'][0:100], label='Close Price', color='black')\n",
    "\n",
    "# # Add dots to show predictions\n",
    "# for index, row in subset_df.iterrows():\n",
    "#     if row['Probability (Up)'] > 0.5:  # Upward movement\n",
    "#         plt.scatter(row['Timestamp'], data['close'][index], color='green', label='Predicted Up', zorder=1)\n",
    "#     else:  # Downward movement\n",
    "#         plt.scatter(row['Timestamp'], data['close'][index], color='red', label='Predicted Down', zorder=1)\n",
    "\n",
    "# plt.title('Close Price and Predicted Movements')\n",
    "# plt.xlabel('Timestamp (Hourly)')\n",
    "# plt.ylabel('Close Price')\n",
    "# plt.xticks(subset_df['Timestamp'][::100], rotation=45, ha='right')  # Show every 10th timestamp for better readability\n",
    "# plt.tight_layout()\n",
    "# plt.show()\n"
   ]
  }
 ],
 "metadata": {
  "kernelspec": {
   "display_name": "Python 3",
   "language": "python",
   "name": "python3"
  },
  "language_info": {
   "codemirror_mode": {
    "name": "ipython",
    "version": 3
   },
   "file_extension": ".py",
   "mimetype": "text/x-python",
   "name": "python",
   "nbconvert_exporter": "python",
   "pygments_lexer": "ipython3",
   "version": "3.12.1"
  }
 },
 "nbformat": 4,
 "nbformat_minor": 2
}
