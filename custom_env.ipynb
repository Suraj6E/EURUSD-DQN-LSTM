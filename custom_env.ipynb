{
 "cells": [
  {
   "cell_type": "code",
   "execution_count": 57,
   "metadata": {},
   "outputs": [],
   "source": [
    "%matplotlib inline\n",
    "import matplotlib.pyplot as plt\n",
    "import pandas as pd\n",
    "\n",
    "import math\n",
    "import random\n",
    "from itertools import count\n",
    "from collections import namedtuple, deque\n",
    "\n",
    "import gymnasium as gym\n",
    "import torch\n",
    "import torch.nn as nn\n",
    "import torch.optim as optim\n",
    "import torch.nn.functional as F"
   ]
  },
  {
   "cell_type": "markdown",
   "metadata": {},
   "source": [
    "### Import data"
   ]
  },
  {
   "cell_type": "code",
   "execution_count": 45,
   "metadata": {},
   "outputs": [
    {
     "name": "stdout",
     "output_type": "stream",
     "text": [
      "             timestamp     open     high      low    close\n",
      "0  2023-01-01 17:05:00  1.06973  1.06978  1.06966  1.06970\n",
      "1  2023-01-01 17:10:00  1.06975  1.07066  1.06899  1.06899\n",
      "2  2023-01-01 17:15:00  1.06788  1.06788  1.06788  1.06788\n",
      "7  2023-01-01 17:40:00  1.06904  1.06958  1.06904  1.06934\n",
      "8  2023-01-01 17:45:00  1.06962  1.07061  1.06860  1.06894\n",
      "9  2023-01-01 17:50:00  1.06944  1.07007  1.06860  1.06881\n",
      "10 2023-01-01 17:55:00  1.06879  1.06954  1.06823  1.06929\n",
      "11 2023-01-01 18:00:00  1.06896  1.06941  1.06863  1.06863\n",
      "12 2023-01-01 18:05:00  1.06942  1.06953  1.06836  1.06836\n",
      "13 2023-01-01 18:10:00  1.06916  1.07040  1.06829  1.06895\n",
      "                           timestamp          open          high  \\\n",
      "count                          64856  64856.000000  64856.000000   \n",
      "mean   2023-07-09 03:27:22.043912704      1.080766      1.080947   \n",
      "min              2023-01-01 17:05:00      1.044990      1.045370   \n",
      "25%              2023-04-02 21:23:45      1.068370      1.068540   \n",
      "50%              2023-07-24 00:27:30      1.081590      1.081790   \n",
      "75%              2023-10-11 17:51:15      1.092640      1.092800   \n",
      "max              2023-12-29 16:55:00      1.127540      1.127560   \n",
      "std                              NaN      0.016274      0.016270   \n",
      "\n",
      "                low         close  \n",
      "count  64856.000000  64856.000000  \n",
      "mean       1.080583      1.080696  \n",
      "min        1.044830      1.044870  \n",
      "25%        1.068190      1.068307  \n",
      "50%        1.081370      1.081500  \n",
      "75%        1.092470      1.092570  \n",
      "max        1.126730      1.127370  \n",
      "std        0.016279      0.016277  \n"
     ]
    }
   ],
   "source": [
    "filename = \"EURUSD_M1_2023.csv\"\n",
    "\n",
    "df = pd.read_csv(\"./data_saved/\"+filename)\n",
    " # Convert 'timestamp' column to datetime\n",
    "df['timestamp'] = pd.to_datetime(df['timestamp']) \n",
    "\n",
    "#timestamp as index\n",
    "df.set_index('timestamp', inplace=True)\n",
    "data = df.resample('5min').agg({'open': 'first', 'high': 'max', 'low': 'min', 'close': 'last'}).reset_index()\n",
    "\n",
    "#Drop NA rows\n",
    "data = data.dropna(axis=0)\n",
    "\n",
    "print(data.head(10))\n",
    "print(data.describe())\n"
   ]
  },
  {
   "cell_type": "markdown",
   "metadata": {},
   "source": [
    "### Device"
   ]
  },
  {
   "cell_type": "code",
   "execution_count": 49,
   "metadata": {},
   "outputs": [
    {
     "data": {
      "text/plain": [
       "device(type='cuda')"
      ]
     },
     "execution_count": 49,
     "metadata": {},
     "output_type": "execute_result"
    }
   ],
   "source": [
    "# Check if GPU is available\n",
    "device = torch.device(\"cuda\" if torch.cuda.is_available() else \"cpu\")\n",
    "device"
   ]
  },
  {
   "cell_type": "markdown",
   "metadata": {},
   "source": [
    "### Creating custom envonment\n"
   ]
  },
  {
   "cell_type": "code",
   "execution_count": 64,
   "metadata": {},
   "outputs": [],
   "source": [
    "import gym\n",
    "from gym import spaces\n",
    "import pandas as pd\n",
    "import numpy as np\n",
    "\n",
    "MAX_ACCOUNT_BALANCE = 2147483647\n",
    "MAX_NUM_SHARES = 2147483647\n",
    "MAX_SHARE_PRICE = 5000\n",
    "MAX_OPEN_POSITIONS = 5\n",
    "MAX_STEPS = 20000\n",
    "\n",
    "INITIAL_ACCOUNT_BALANCE = 10000\n",
    "\n",
    "\n",
    "class DQNENV(gym.Env):\n",
    "    \"\"\"A stock trading environment for OpenAI gym\"\"\"\n",
    "    metadata = {'render.modes': ['human']}\n",
    "\n",
    "    def __init__(self, df):\n",
    "        super(DQNENV, self).__init__()\n",
    "\n",
    "        self.df = df\n",
    "        self.reward_range = (0, MAX_ACCOUNT_BALANCE)\n",
    "\n",
    "        # Actions of the format Buy x%, Sell x%, Hold, etc.\n",
    "        self.action_space = spaces.Box(\n",
    "            low=np.array([0, 0]), high=np.array([3, 1]), dtype=np.float16)\n",
    "\n",
    "        # Prices contains the OHCL values for the last five prices\n",
    "        self.observation_space = spaces.Box(\n",
    "            low=0, high=1, shape=(6, 6), dtype=np.float16)\n",
    "\n",
    "    def _next_observation(self):\n",
    "        # Get the stock data points for the last 5 days and scale to between 0-1\n",
    "        frame = np.array([\n",
    "            self.df.loc[self.current_step: self.current_step +\n",
    "                        5, 'open'].values / MAX_SHARE_PRICE,\n",
    "            self.df.loc[self.current_step: self.current_step +\n",
    "                        5, 'high'].values / MAX_SHARE_PRICE,\n",
    "            self.df.loc[self.current_step: self.current_step +\n",
    "                        5, 'low'].values / MAX_SHARE_PRICE,\n",
    "            self.df.loc[self.current_step: self.current_step +\n",
    "                        5, 'close'].values / MAX_SHARE_PRICE\n",
    "        ])\n",
    "\n",
    "        # Append additional data and scale each value to between 0-1\n",
    "        obs = np.append(frame, [[\n",
    "            self.balance / MAX_ACCOUNT_BALANCE,\n",
    "            self.max_net_worth / MAX_ACCOUNT_BALANCE,\n",
    "            self.shares_held / MAX_NUM_SHARES,\n",
    "            self.cost_basis / MAX_SHARE_PRICE,\n",
    "            self.total_shares_sold / MAX_NUM_SHARES,\n",
    "            self.total_sales_value / (MAX_NUM_SHARES * MAX_SHARE_PRICE),\n",
    "        ]], axis=0)\n",
    "\n",
    "        return obs\n",
    "\n",
    "    def _take_action(self, action):\n",
    "        # Set the current price to a random price within the time step\n",
    "        current_price = random.uniform(\n",
    "            self.df.loc[self.current_step, \"open\"], self.df.loc[self.current_step, \"close\"])\n",
    "\n",
    "        action_type = action[0]\n",
    "        amount = action[1]\n",
    "\n",
    "        if action_type < 1:\n",
    "            # Buy amount % of balance in shares\n",
    "            total_possible = int(self.balance / current_price)\n",
    "            shares_bought = int(total_possible * amount)\n",
    "            prev_cost = self.cost_basis * self.shares_held\n",
    "            additional_cost = shares_bought * current_price\n",
    "\n",
    "            self.balance -= additional_cost\n",
    "            self.cost_basis = (\n",
    "                prev_cost + additional_cost) / (self.shares_held + shares_bought)\n",
    "            self.shares_held += shares_bought\n",
    "\n",
    "        elif action_type < 2:\n",
    "            # Sell amount % of shares held\n",
    "            shares_sold = int(self.shares_held * amount)\n",
    "            self.balance += shares_sold * current_price\n",
    "            self.shares_held -= shares_sold\n",
    "            self.total_shares_sold += shares_sold\n",
    "            self.total_sales_value += shares_sold * current_price\n",
    "\n",
    "        self.net_worth = self.balance + self.shares_held * current_price\n",
    "\n",
    "        if self.net_worth > self.max_net_worth:\n",
    "            self.max_net_worth = self.net_worth\n",
    "\n",
    "        if self.shares_held == 0:\n",
    "            self.cost_basis = 0\n",
    "\n",
    "    def step(self, action):\n",
    "        # Execute one time step within the environment\n",
    "        self._take_action(action)\n",
    "\n",
    "        self.current_step += 1\n",
    "\n",
    "        if self.current_step > len(self.df.loc[:, 'open'].values) - 6:\n",
    "            self.current_step = 0\n",
    "\n",
    "        delay_modifier = (self.current_step / MAX_STEPS)\n",
    "\n",
    "        reward = self.balance * delay_modifier\n",
    "        done = self.net_worth <= 0\n",
    "\n",
    "        obs = self._next_observation()\n",
    "\n",
    "        return obs, reward, done, {}\n",
    "\n",
    "    def reset(self):\n",
    "        # Reset the state of the environment to an initial state\n",
    "        self.balance = INITIAL_ACCOUNT_BALANCE\n",
    "        self.net_worth = INITIAL_ACCOUNT_BALANCE\n",
    "        self.max_net_worth = INITIAL_ACCOUNT_BALANCE\n",
    "        self.shares_held = 0\n",
    "        self.cost_basis = 0\n",
    "        self.total_shares_sold = 0\n",
    "        self.total_sales_value = 0\n",
    "\n",
    "        # Set the current step to a random point within the data frame\n",
    "        self.current_step = random.randint(\n",
    "            0, len(self.df.loc[:, 'open'].values) - 6)\n",
    "\n",
    "        return self._next_observation()\n",
    "\n",
    "    def render(self, mode='human', close=False):\n",
    "        # Render the environment to the screen\n",
    "        profit = self.net_worth - INITIAL_ACCOUNT_BALANCE\n",
    "\n",
    "        print(f'Step: {self.current_step}')\n",
    "        print(f'Balance: {self.balance}')\n",
    "        print(\n",
    "            f'Shares held: {self.shares_held} (Total sold: {self.total_shares_sold})')\n",
    "        print(\n",
    "            f'Avg cost for held shares: {self.cost_basis} (Total sales value: {self.total_sales_value})')\n",
    "        print(\n",
    "            f'Net worth: {self.net_worth} (Max net worth: {self.max_net_worth})')\n",
    "        print(f'Profit: {profit}')"
   ]
  },
  {
   "cell_type": "code",
   "execution_count": null,
   "metadata": {},
   "outputs": [],
   "source": []
  },
  {
   "cell_type": "code",
   "execution_count": 63,
   "metadata": {},
   "outputs": [
    {
     "name": "stdout",
     "output_type": "stream",
     "text": [
      "<DQNENV instance>\n"
     ]
    },
    {
     "name": "stderr",
     "output_type": "stream",
     "text": [
      "c:\\Users\\ACER\\AppData\\Local\\Programs\\Python\\Python312\\Lib\\site-packages\\gym\\spaces\\box.py:127: UserWarning: \u001b[33mWARN: Box bound precision lowered by casting to float16\u001b[0m\n",
      "  logger.warn(f\"Box bound precision lowered by casting to {self.dtype}\")\n"
     ]
    }
   ],
   "source": [
    "env = DQNENV(data)\n",
    "print(env)"
   ]
  }
 ],
 "metadata": {
  "kernelspec": {
   "display_name": "Python 3",
   "language": "python",
   "name": "python3"
  },
  "language_info": {
   "codemirror_mode": {
    "name": "ipython",
    "version": 3
   },
   "file_extension": ".py",
   "mimetype": "text/x-python",
   "name": "python",
   "nbconvert_exporter": "python",
   "pygments_lexer": "ipython3",
   "version": "3.12.1"
  }
 },
 "nbformat": 4,
 "nbformat_minor": 2
}
